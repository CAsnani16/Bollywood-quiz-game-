{
  "nbformat": 4,
  "nbformat_minor": 0,
  "metadata": {
    "colab": {
      "provenance": [],
      "authorship_tag": "ABX9TyPGJaMsa9RJSa+7Ugml3SBQ",
      "include_colab_link": true
    },
    "kernelspec": {
      "name": "python3",
      "display_name": "Python 3"
    },
    "language_info": {
      "name": "python"
    }
  },
  "cells": [
    {
      "cell_type": "markdown",
      "metadata": {
        "id": "view-in-github",
        "colab_type": "text"
      },
      "source": [
        "<a href=\"https://colab.research.google.com/github/CAsnani16/Bollywood-quiz-game-/blob/main/Python_Projects.ipynb\" target=\"_parent\"><img src=\"https://colab.research.google.com/assets/colab-badge.svg\" alt=\"Open In Colab\"/></a>"
      ]
    },
    {
      "cell_type": "code",
      "execution_count": null,
      "metadata": {
        "colab": {
          "base_uri": "https://localhost:8080/"
        },
        "id": "2J6T606Wx88X",
        "outputId": "644f56f8-9d93-40b4-a8aa-00b7c6ef8636"
      },
      "outputs": [
        {
          "output_type": "stream",
          "name": "stdout",
          "text": [
            "Welcome to my quiz!\n",
            "Do you want to play? yes\n",
            "Okay! Let's play:)\n",
            "Which movie features the song 'Tujhe Dekha To' sung by Kumar Sanu and Lata Mangeshkar?,(Use only the initials of the movie.) ddlj\n",
            "Correct!\n",
            "Who sang the famous song 'Tum Hi Ho' from the movie 'Aashiqui 2'? arijit singh\n",
            "Correct!\n",
            "Which film features the song 'Sheila Ki Jawani' sung by Sunidhi Chauhan and Vishal Dadlani? tees maar khan\n",
            "Correct!\n",
            "Which singer performed the hit song 'Tum Mile' from the movie 'Tum Mile'? arijit singh\n",
            "Incorrect!\n",
            "Which movie features the song 'Badtameez Dil' sung by Benny Dayal?, (Use only the initials of the movie.) yjhd\n",
            "Incorrect!\n",
            "You got 3 questions correct!\n",
            "You got 60.0%.\n"
          ]
        }
      ],
      "source": [
        "print(\"Welcome to my quiz!\")\n",
        "playing = input(\"Do you want to play? \")\n",
        "if playing.lower() != \"Yes\":\n",
        "    quit()\n",
        "\n",
        "print(\"Okay! Let's play:)\")\n",
        "score = 0\n",
        "\n",
        "answer = input(\"Which movie features the song 'Tujhe Dekha To' sung by Kumar Sanu and Lata Mangeshkar?,(Use only the initials of the movie.) \")\n",
        "if answer.upper() == \"DDLJ\":\n",
        "    print('Correct!')\n",
        "    score += 1\n",
        "else:\n",
        "    print('Incorrect!')\n",
        "\n",
        "answer = input(\"Who sang the famous song 'Tum Hi Ho' from the movie 'Aashiqui 2'? \")\n",
        "if answer.lower() == \"arijit singh\":\n",
        "    print('Correct!')\n",
        "    score += 1\n",
        "else:\n",
        "    print('Incorrect!')\n",
        "\n",
        "answer = input(\"Which film features the song 'Sheila Ki Jawani' sung by Sunidhi Chauhan and Vishal Dadlani? \")\n",
        "if answer.lower() == \"tees maar khan\":\n",
        "    print('Correct!')\n",
        "    score += 1\n",
        "else:\n",
        "    print('Incorrect!')\n",
        "\n",
        "answer = input(\"Which singer performed the hit song 'Tum Mile' from the movie 'Tum Mile'? \")\n",
        "if answer.upper() == \"K.K\":\n",
        "    print('Correct!')\n",
        "    score += 1\n",
        "else:\n",
        "    print('Incorrect!')\n",
        "\n",
        "answer = input(\"Which movie features the song 'Badtameez Dil' sung by Benny Dayal?, (Use only the initials of the movie.) \")\n",
        "if answer.upper() == \"YJHD\":\n",
        "    print('Correct!')\n",
        "    score += 1\n",
        "else:\n",
        "    print('Incorrect!')\n",
        "\n",
        "print(\"You got \" + str(score) + \" questions correct!\")\n",
        "print(\"You got \" + str((score/5) * 100) + \"%.\")\n",
        "\n"
      ]
    },
    {
      "cell_type": "code",
      "source": [],
      "metadata": {
        "id": "prtgdpOwyCCD"
      },
      "execution_count": null,
      "outputs": []
    }
  ]
}